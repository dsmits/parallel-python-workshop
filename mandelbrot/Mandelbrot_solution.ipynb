{
 "cells": [
  {
   "cell_type": "markdown",
   "id": "4e0c6388",
   "metadata": {},
   "source": [
    "# Execercise: Mandelbrot set"
   ]
  },
  {
   "cell_type": "markdown",
   "id": "3ca669ac",
   "metadata": {},
   "source": [
    "In this excercise, We will be computing the famous [Mandelbrot set](https://en.wikipedia.org/wiki/Mandelbrot_set). \n",
    "\n",
    "The Mandelbrot set is the set of [complex numbers](https://en.wikipedia.org/wiki/Complex_number) $c \\in \\mathbb{C}$ for which the iteration,\n",
    "\n",
    "$$z_{n+1} = z_n^2 + c,$$\n",
    "\n",
    "converges (i.e. does not diverge to infinity), when iterated from $z_0 = 0$. "
   ]
  },
  {
   "cell_type": "markdown",
   "id": "00709e1f",
   "metadata": {},
   "source": [
    "The beauty of the Mandelbrot set is that it's [self-similar](https://en.wikipedia.org/wiki/Self-similarity). So if you start to zoom into the set, you may start to see the same pattern showing up again, as you can see in the [gif](https://en.wikipedia.org/wiki/Mandelbrot_set#/media/File:Mandelbrot_sequence_new.gif) of its wikipedia page."
   ]
  },
  {
   "cell_type": "markdown",
   "id": "627f7c3d",
   "metadata": {},
   "source": [
    "A complex number $c$ belongs to the Mandelbrot set if and only if $ |z_{n}| \\le 2 $ for all $ n \\ge 0 $ . We can use this property to validate if $c$ is within the Mandelbrot set."
   ]
  },
  {
   "cell_type": "markdown",
   "id": "f52f7fba",
   "metadata": {},
   "source": [
    "As you may already noticed, we need to investigate infinity number of $c$. And for each $c$, we need to compute infinite number of iterations to validate if it is within the Mandelbrot set. Of course we will not do either of them (hey this is not a mathematics workshop -_^). We will simply:\n",
    "\n",
    "1. Define a finite extent;\n",
    "2. Select a finite number of complex numbers within this extent;\n",
    "3. Validate each complex number with a finite number of iterations. If in any iteration |z_{n}| \\ge 2 $, the number is not in the Mandelbrot set. "
   ]
  },
  {
   "cell_type": "code",
   "execution_count": 1,
   "id": "7dd069f6",
   "metadata": {},
   "outputs": [],
   "source": [
    "# Define a finite extent\n",
    "CENTER = -0.8 + 0.0j # Location of the extent center\n",
    "EXTENT_RE = 3.0 # Extent length on the real axis\n",
    "EXTENT_IM = 3.0 # Extent length on the imaginary axis\n",
    "\n",
    "# Select finite number of complex numbers\n",
    "# In total nRE*nIM complex numbers will be inspected \n",
    "N_RE = 256 # number of elemtes along the real axis\n",
    "N_IM = 256 # number of elemtes along the imaginary axis\n",
    "\n",
    "# Finite iterations\n",
    "MAX_ITER = 256 # Max number of iterations per"
   ]
  },
  {
   "cell_type": "markdown",
   "id": "c93aa60f",
   "metadata": {},
   "source": [
    "We will start with a native for loop implementation to compute and visualize the Mandelbrot set within a certain extent. "
   ]
  },
  {
   "cell_type": "code",
   "execution_count": 2,
   "id": "7849acfa",
   "metadata": {},
   "outputs": [],
   "source": [
    "import numpy as np\n",
    "\n",
    "def compute_mandelbrot(nIM=N_IM, nRE=N_RE, max_iter=MAX_ITER, center=CENTER, extent_RE=EXTENT_RE, extent_IM=EXTENT_IM):\n",
    "    niters = np.zeros((nIM, nRE), int)\n",
    "    scale = max(extent_RE/nRE, extent_IM/nIM)\n",
    "\n",
    "    # Loop through all selected complex number within the extent\n",
    "    for j in range(nIM):\n",
    "        for i in range(nRE):\n",
    "            c = center + (i - nRE // 2 + (j - nIM //2) * 1j) * scale\n",
    "            z = 0\n",
    "\n",
    "            # Per complex number, validate it for a finite number of iterations\n",
    "            for k in range(max_iter):\n",
    "                z = z**2 + c\n",
    "\n",
    "                # if module of the complex number lager than 2,\n",
    "                # it will diverge, thus not within Mandelbrot set\n",
    "                if np.absolute(z) > 2.0: \n",
    "                    break\n",
    "\n",
    "            niters[j, i] = k\n",
    "    return niters"
   ]
  },
  {
   "cell_type": "markdown",
   "id": "b38dcf0f",
   "metadata": {},
   "source": [
    "We call the function to compute the iteration numbers per complex number:"
   ]
  },
  {
   "cell_type": "code",
   "execution_count": 3,
   "id": "c00262e5",
   "metadata": {},
   "outputs": [],
   "source": [
    "niters = compute_mandelbrot()"
   ]
  },
  {
   "cell_type": "markdown",
   "id": "c16f65bd",
   "metadata": {},
   "source": [
    "And we can visualize the interation numbers of all complex numbers we validated:"
   ]
  },
  {
   "cell_type": "code",
   "execution_count": 4,
   "id": "95e31baf",
   "metadata": {},
   "outputs": [
    {
     "data": {
      "text/plain": [
       "Text(0, 0.5, '$\\\\Im(c)$')"
      ]
     },
     "execution_count": 4,
     "metadata": {},
     "output_type": "execute_result"
    },
    {
     "data": {
      "image/png": "[encoded data removed]",
      "text/plain": [
       "<Figure size 360x360 with 1 Axes>"
      ]
     },
     "metadata": {
      "needs_background": "light"
     },
     "output_type": "display_data"
    }
   ],
   "source": [
    "from matplotlib import pyplot as plt\n",
    "\n",
    "fig, ax = plt.subplots(1,1, figsize=(5,5))\n",
    "plot_extent = (CENTER.real - EXTENT_RE/2,\n",
    "               CENTER.real + EXTENT_RE/2,\n",
    "               CENTER.imag - EXTENT_IM/2,\n",
    "               CENTER.imag + EXTENT_IM/2)\n",
    "\n",
    "ax.imshow(niters, origin='lower', extent=plot_extent)\n",
    "ax.set_xlabel(\"$\\Re(c)$\")\n",
    "ax.set_ylabel(\"$\\Im(c)$\")"
   ]
  },
  {
   "cell_type": "markdown",
   "id": "7ac15a32",
   "metadata": {},
   "source": [
    "All the yellow pixels here represents the complex number survived through the max number iterations, thus they are considered as within the Mandelbrot set in our example. So the function seem to be working, but only if we can make it a bit faster..."
   ]
  },
  {
   "cell_type": "code",
   "execution_count": 5,
   "metadata": {},
   "outputs": [
    {
     "name": "stdout",
     "output_type": "stream",
     "text": [
      "2.56 s ± 206 ms per loop (mean ± std. dev. of 7 runs, 1 loop each)\n"
     ]
    }
   ],
   "source": [
    "%timeit compute_mandelbrot()"
   ]
  },
  {
   "cell_type": "markdown",
   "id": "462d7cef",
   "metadata": {},
   "source": [
    "It takes a few seconds for now to validate all numbers within the given extent. Can you use the parallelization skills you have learnt in this workshop to accelerate the given implementation?"
   ]
  },
  {
   "cell_type": "markdown",
   "id": "557e6760",
   "metadata": {},
   "source": [
    "## Solution 1: numba jit"
   ]
  },
  {
   "cell_type": "code",
   "execution_count": 6,
   "id": "376940bd",
   "metadata": {},
   "outputs": [],
   "source": [
    "import numba\n",
    "\n",
    "@numba.jit(nopython=True, nogil=True)\n",
    "def compute_mandelbrot_numba(nIM=N_IM, nRE=N_RE, max_iter=MAX_ITER, center=CENTER, extent_RE=EXTENT_RE, extent_IM=EXTENT_IM):\n",
    "    niters = np.zeros((nIM, nRE), np.int64)\n",
    "    scale = max(extent_RE/nRE, extent_IM/nIM)\n",
    "\n",
    "    # Loop through all selected complex number within the extent\n",
    "    for j in range(nIM):\n",
    "        for i in range(nRE):\n",
    "            c = center + (i - nRE // 2 + (j - nIM //2) * 1j) * scale\n",
    "            z = 0\n",
    "\n",
    "            # Per complex number, validate it for a finite number of iterations\n",
    "            for k in range(max_iter):\n",
    "                z = z**2 + c\n",
    "\n",
    "                # if module of the complex number lager than 2,\n",
    "                # it will diverge, thus not within Mandelbrot set\n",
    "                if np.absolute(z) > 2.0: \n",
    "                    break\n",
    "\n",
    "            niters[j, i] = k\n",
    "    return niters"
   ]
  },
  {
   "cell_type": "code",
   "execution_count": 7,
   "id": "a4333712",
   "metadata": {},
   "outputs": [
    {
     "name": "stdout",
     "output_type": "stream",
     "text": [
      "31.2 ms ± 489 µs per loop (mean ± std. dev. of 7 runs, 1 loop each)\n"
     ]
    }
   ],
   "source": [
    "%timeit compute_mandelbrot_numba()"
   ]
  },
  {
   "cell_type": "markdown",
   "id": "0bcc7655",
   "metadata": {},
   "source": [
    "## Solution 2: numba jit with parallel"
   ]
  },
  {
   "cell_type": "code",
   "execution_count": 8,
   "id": "decbc004",
   "metadata": {},
   "outputs": [],
   "source": [
    "import numba\n",
    "\n",
    "@numba.jit(nopython=True, parallel=True, nogil=True)\n",
    "def compute_mandelbrot_numba_parallel(nIM=N_IM, nRE=N_RE, max_iter=MAX_ITER, center=CENTER, extent_RE=EXTENT_RE, extent_IM=EXTENT_IM):\n",
    "    niters = np.zeros((nIM, nRE), np.int64)\n",
    "    scale = max(extent_RE/nRE, extent_IM/nIM)\n",
    "\n",
    "    # Loop through all selected complex number within the extent\n",
    "    for j in range(nIM):\n",
    "        for i in range(nRE):\n",
    "            c = center + (i - nRE // 2 + (j - nIM //2) * 1j) * scale\n",
    "            z = 0\n",
    "\n",
    "            # Per complex number, validate it for a finite number of iterations\n",
    "            for k in range(max_iter):\n",
    "                z = z**2 + c\n",
    "\n",
    "                # if module of the complex number lager than 2,\n",
    "                # it will diverge, thus not within Mandelbrot set\n",
    "                if np.absolute(z) > 2.0: \n",
    "                    break\n",
    "\n",
    "            niters[j, i] = k\n",
    "    return niters"
   ]
  },
  {
   "cell_type": "code",
   "execution_count": 9,
   "id": "d48e4f80",
   "metadata": {},
   "outputs": [
    {
     "name": "stdout",
     "output_type": "stream",
     "text": [
      "38.9 ms ± 3.95 ms per loop (mean ± std. dev. of 7 runs, 1 loop each)\n"
     ]
    }
   ],
   "source": [
    "%timeit compute_mandelbrot_numba_parallel()"
   ]
  },
  {
   "cell_type": "markdown",
   "id": "1178a674",
   "metadata": {},
   "source": [
    "## Solution 3: dask databag"
   ]
  },
  {
   "cell_type": "code",
   "execution_count": 10,
   "id": "9bef1e52",
   "metadata": {},
   "outputs": [],
   "source": [
    "import dask.bag as db\n",
    "\n",
    "@numba.jit(nopython=True, nogil=True)\n",
    "def iterate_mandelbrot(coords, nIM, nRE, max_iter, center, extent_RE, extent_IM):\n",
    "    j, i = coords\n",
    "    z = 0\n",
    "    scale = max(extent_RE/nRE, extent_IM/nIM)\n",
    "    c = center + (i - nRE // 2 + (j - nIM //2) * 1j) * scale\n",
    "    \n",
    "    # Per complex number, validate it for a finite number of iterations\n",
    "    for k in range(max_iter):\n",
    "        z = z**2 + c\n",
    "\n",
    "        # if module (or absolute value) of the complex number greater than 2,\n",
    "        # it will diverge, thus not within Mandelbrot set\n",
    "        if np.absolute(z) > 2.0: \n",
    "            break\n",
    "    return k\n",
    "\n",
    "\n",
    "def compute_mandelbrot_dask(nIM=N_IM, nRE=N_RE, max_iter=MAX_ITER, center=CENTER, extent_RE=EXTENT_RE, extent_IM=EXTENT_IM):\n",
    "    initial_state = np.ndindex(nIM, nRE)\n",
    "    bag = db.from_sequence(initial_state)\n",
    "    \n",
    "    return bag.map(lambda x: iterate_mandelbrot(x, nIM, nRE, max_iter, center, extent_RE, extent_IM))\n"
   ]
  },
  {
   "cell_type": "code",
   "execution_count": 11,
   "id": "b8ad52ef",
   "metadata": {},
   "outputs": [
    {
     "name": "stdout",
     "output_type": "stream",
     "text": [
      "507 ms ± 17 ms per loop (mean ± std. dev. of 7 runs, 1 loop each)\n"
     ]
    }
   ],
   "source": [
    "%timeit compute_mandelbrot_dask().compute(scheduler='threads')"
   ]
  },
  {
   "cell_type": "code",
   "execution_count": 12,
   "id": "c236252d",
   "metadata": {},
   "outputs": [],
   "source": [
    "# To visualize this solution, the matrix needs to be reshapen first\n",
    "result = compute_mandelbrot_dask().compute(scheduler='threads')\n",
    "niters = np.array(result).reshape((N_IM, N_RE))"
   ]
  },
  {
   "cell_type": "code",
   "execution_count": null,
   "id": "4ac05b9c",
   "metadata": {},
   "outputs": [],
   "source": []
  },
  {
   "cell_type": "code",
   "execution_count": null,
   "id": "93c57b4b",
   "metadata": {},
   "outputs": [],
   "source": []
  },
  {
   "cell_type": "code",
   "execution_count": null,
   "id": "74a167ed",
   "metadata": {},
   "outputs": [],
   "source": []
  }
 ],
 "metadata": {
  "kernelspec": {
   "display_name": "Python 3 (ipykernel)",
   "language": "python",
   "name": "python3"
  },
  "language_info": {
   "codemirror_mode": {
    "name": "ipython",
    "version": 3
   },
   "file_extension": ".py",
   "mimetype": "text/x-python",
   "name": "python",
   "nbconvert_exporter": "python",
   "pygments_lexer": "ipython3",
   "version": "3.8.12"
  }
 },
 "nbformat": 4,
 "nbformat_minor": 5
}
